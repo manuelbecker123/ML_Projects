{
 "cells": [
  {
   "cell_type": "code",
   "execution_count": null,
   "metadata": {},
   "outputs": [
    {
     "ename": "",
     "evalue": "",
     "output_type": "error",
     "traceback": [
      "\u001b[1;31mRunning cells with '/opt/homebrew/bin/python3' requires ipykernel package.\n",
      "\u001b[1;31mRun the following command to install 'ipykernel' into the Python environment. \n",
      "\u001b[1;31mCommand: '/opt/homebrew/bin/python3 -m pip install ipykernel -U --user --force-reinstall'"
     ]
    }
   ],
   "source": [
    "import os\n",
    "import pandas as pd\n",
    "import matplotlib.pyplot as plt\n",
    "import seaborn as sns\n",
    "from PIL import Image\n",
    "\n",
    "# --- 1. Configuration ---\n",
    "DATA_DIR = '../data/asl_dataset'\n",
    "# Get class names from the folder names, excluding any hidden files\n",
    "classes = sorted([d for d in os.listdir(DATA_DIR) if not d.startswith('.')])\n",
    "num_classes = len(classes)\n",
    "\n",
    "# --- 2. Analyze Class Balance ---\n",
    "print(\"--- Analyzing Class Balance ---\")\n",
    "class_counts = {}\n",
    "for sign_class in classes:\n",
    "    class_path = os.path.join(DATA_DIR, sign_class)\n",
    "    class_counts[sign_class] = len(os.listdir(class_path))\n",
    "\n",
    "class_counts_df = pd.DataFrame(list(class_counts.items()), columns=['Class', 'Count'])\n",
    "\n",
    "plt.figure(figsize=(18, 8))\n",
    "sns.barplot(x='Class', y='Count', data=class_counts_df)\n",
    "plt.title('Number of Images per Class in ASL Dataset', fontsize=16)\n",
    "plt.xlabel('Class (Sign)', fontsize=12)\n",
    "plt.ylabel('Number of Images', fontsize=12)\n",
    "plt.xticks(rotation=45)\n",
    "plt.show()\n",
    "print(\"Observation: The dataset appears to be well-balanced across all classes.\")\n",
    "\n",
    "\n",
    "# --- 3. Display Sample Images ---\n",
    "print(\"\\n--- Displaying Sample Images ---\")\n",
    "plt.figure(figsize=(12, 12))\n",
    "for i, sign_class in enumerate(classes[:25]): # Display first 25 classes\n",
    "    class_path = os.path.join(DATA_DIR, sign_class)\n",
    "    sample_image_name = os.listdir(class_path)[0]\n",
    "    img = Image.open(os.path.join(class_path, sample_image_name))\n",
    "    \n",
    "    plt.subplot(5, 5, i + 1)\n",
    "    plt.imshow(img)\n",
    "    plt.title(f\"Class: {sign_class}\")\n",
    "    plt.axis('off')\n",
    "\n",
    "plt.tight_layout()\n",
    "plt.show()"
   ]
  }
 ],
 "metadata": {
  "kernelspec": {
   "display_name": "asl-interpreter-venv",
   "language": "python",
   "name": "asl-interpreter-venv"
  },
  "language_info": {
   "name": "python",
   "version": "3.13.5 (main, Jun 11 2025, 15:36:57) [Clang 16.0.0 (clang-1600.0.26.6)]"
  },
  "vscode": {
   "interpreter": {
    "hash": "b0fa6594d8f4cbf19f97940f81e996739fb7646882a419484c72d19e05852a7e"
   }
  }
 },
 "nbformat": 4,
 "nbformat_minor": 2
}
